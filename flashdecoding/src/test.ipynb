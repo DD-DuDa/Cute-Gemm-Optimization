{
 "cells": [
  {
   "cell_type": "code",
   "execution_count": 1,
   "metadata": {},
   "outputs": [],
   "source": [
    "import torch\n",
    "from einops import rearrange, repeat"
   ]
  },
  {
   "cell_type": "code",
   "execution_count": 2,
   "metadata": {},
   "outputs": [],
   "source": [
    "batch_size = 1\n",
    "seqlen_q = 1\n",
    "seqlen_kv = 1024\n",
    "num_heads = 32\n",
    "head_dim = 128\n",
    "device = \"cuda\"\n",
    "dtype = torch.float16\n",
    "seqlen_new = seqlen_q\n",
    "\n",
    "k = torch.randn(batch_size, seqlen_new, num_heads, head_dim, device=device, dtype=dtype)\n",
    "v = torch.randn(batch_size, seqlen_new, num_heads, head_dim, device=device, dtype=dtype)\n",
    "\n",
    "k_cache = torch.randn(batch_size, seqlen_kv, num_heads, head_dim, device=device, dtype=dtype)\n",
    "v_cache = torch.randn(batch_size, seqlen_kv, num_heads, head_dim, device=device, dtype=dtype)"
   ]
  },
  {
   "cell_type": "code",
   "execution_count": 3,
   "metadata": {},
   "outputs": [
    {
     "name": "stdout",
     "output_type": "stream",
     "text": [
      "cache_seqlens tensor([723], device='cuda:0', dtype=torch.int32)\n"
     ]
    }
   ],
   "source": [
    "cache_seqlens = torch.randint(\n",
    "    0,\n",
    "    # If we don't use seqlen_q in the case of causal and rotary, cos/sin won't be long enough\n",
    "    (\n",
    "        (seqlen_kv - (seqlen_new) + 1)\n",
    "    ),       \n",
    "    (batch_size,),\n",
    "    dtype=torch.int32,\n",
    "    device=device,\n",
    ")\n",
    "\n",
    "print(\"cache_seqlens\", cache_seqlens)\n",
    "\n",
    "arange = rearrange(torch.arange(seqlen_kv, device=device), \"s -> 1 s\") # [1, seqlen_kv]\n",
    "cache_seqlens_expanded = rearrange(cache_seqlens, \"b -> b 1\")          # [batch_size, 1]"
   ]
  },
  {
   "cell_type": "code",
   "execution_count": 4,
   "metadata": {},
   "outputs": [
    {
     "data": {
      "text/plain": [
       "tensor([[723]], device='cuda:0', dtype=torch.int32)"
      ]
     },
     "execution_count": 4,
     "metadata": {},
     "output_type": "execute_result"
    }
   ],
   "source": [
    "k_cache_ref = k_cache.clone()\n",
    "v_cache_ref = v_cache.clone()\n",
    "\n",
    "                                                                                                                                                                                                                                                                                                                                                                                                                                                                                                                                                                                                                                                                                                                                                                                                                                                                                                                                                                                                                                                                                                                                                                                                                                                                                                                                                                                                                                                                                                                                                                                                                                                                                                                                                                                                                                                                                                                                                                                                                                     "
   ]
  }
 ],
 "metadata": {
  "kernelspec": {
   "display_name": "bitattn",
   "language": "python",
   "name": "python3"
  },
  "language_info": {
   "codemirror_mode": {
    "name": "ipython",
    "version": 3
   },
   "file_extension": ".py",
   "mimetype": "text/x-python",
   "name": "python",
   "nbconvert_exporter": "python",
   "pygments_lexer": "ipython3",
   "version": "3.10.14"
  }
 },
 "nbformat": 4,
 "nbformat_minor": 2
}
